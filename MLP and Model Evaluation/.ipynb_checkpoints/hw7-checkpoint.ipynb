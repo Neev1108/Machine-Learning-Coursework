{
 "cells": [
  {
   "cell_type": "markdown",
   "metadata": {},
   "source": [
    "# <b>CS156 (Introduction to AI), Spring 2021</b>\n",
    "# <u><b>Homework 7 submission</b></u>"
   ]
  },
  {
   "cell_type": "markdown",
   "metadata": {},
   "source": [
    "### Roster Name: Neeval Kumar\n",
    "### Preferred Name (if different): \n",
    "### Student ID: 01187086\n",
    "### Email address: kumar.neeval@gmail.com\n",
    "Any special notes or anything you would like to communicate to me about this homework submission goes in here."
   ]
  },
  {
   "cell_type": "markdown",
   "metadata": {},
   "source": [
    "##  <u>References and sources </u>"
   ]
  },
  {
   "cell_type": "markdown",
   "metadata": {},
   "source": [
    "List all your references and sources here.\n",
    "This includes all sites/discussion boards/blogs/posts/etc. where you grabbed some code examples.\n",
    "\n",
    "https://scikit-learn.org/stable/modules/generated/sklearn.neural_network.MLPClassifier.html\n",
    "https://seaborn.pydata.org/generated/seaborn.violinplot.html\n",
    "https://stackabuse.com/seaborn-violin-plot-tutorial-and-examples/\n",
    "https://www.geeksforgeeks.org/violinplot-using-seaborn-in-python/"
   ]
  },
  {
   "cell_type": "markdown",
   "metadata": {},
   "source": [
    "##  <u>Solution</u>"
   ]
  },
  {
   "cell_type": "markdown",
   "metadata": {},
   "source": [
    "#### Load libraries and set random number generator seed"
   ]
  },
  {
   "cell_type": "code",
   "execution_count": 66,
   "metadata": {},
   "outputs": [],
   "source": [
    "import numpy as np\n",
    "import pandas as pd\n",
    "from sklearn import datasets\n",
    "import matplotlib.pyplot as plt\n",
    "from PIL import Image\n",
    "import seaborn as sns\n",
    "from sklearn.model_selection import train_test_split\n",
    "from sklearn.neural_network import MLPClassifier\n",
    "from sklearn.metrics import plot_confusion_matrix\n",
    "from sklearn.exceptions import ConvergenceWarning\n",
    "from sklearn.datasets  import load_digits\n",
    "from sklearn.model_selection import cross_val_score"
   ]
  },
  {
   "cell_type": "code",
   "execution_count": 67,
   "metadata": {},
   "outputs": [],
   "source": [
    "np.random.seed(42)"
   ]
  },
  {
   "cell_type": "markdown",
   "metadata": {},
   "source": [
    "#### Code the solution"
   ]
  },
  {
   "cell_type": "markdown",
   "metadata": {},
   "source": [
    "#### Load dataset and flatten"
   ]
  },
  {
   "cell_type": "code",
   "execution_count": 68,
   "metadata": {},
   "outputs": [
    {
     "data": {
      "text/plain": [
       "array([0, 1, 2, ..., 8, 9, 8])"
      ]
     },
     "execution_count": 68,
     "metadata": {},
     "output_type": "execute_result"
    }
   ],
   "source": [
    "mnist = load_digits()\n",
    "n_samples = len(mnist.images)\n",
    "images = mnist.images.reshape((n_samples, -1))\n",
    "labels = mnist.target\n",
    "images = images.astype(\"float32\")/255\n",
    "labels"
   ]
  },
  {
   "cell_type": "markdown",
   "metadata": {},
   "source": [
    "#### Train split model and then train each model. Also print and store cross validation scores array and test set score"
   ]
  },
  {
   "cell_type": "code",
   "execution_count": 69,
   "metadata": {},
   "outputs": [
    {
     "data": {
      "text/plain": [
       "((1437, 64), (1437,), (360, 64), (360,))"
      ]
     },
     "execution_count": 69,
     "metadata": {},
     "output_type": "execute_result"
    }
   ],
   "source": [
    "X_train, X_test, Y_train, Y_test = train_test_split(images, labels, test_size=0.2, random_state=0, stratify = labels)\n",
    "X_train.shape, Y_train.shape, X_test.shape, Y_test.shape"
   ]
  },
  {
   "cell_type": "code",
   "execution_count": 70,
   "metadata": {},
   "outputs": [
    {
     "name": "stdout",
     "output_type": "stream",
     "text": [
      "Individual cross_validation accuracies: [0.93333333 0.87777778 0.95543175 0.9637883  0.90529248]\n",
      "Mean Cross Validation Accuracy 0.9271247291860105\n"
     ]
    }
   ],
   "source": [
    "model1 = MLPClassifier(random_state=1, max_iter=2000)\n",
    "model1.fit(X_train, Y_train)\n",
    "\n",
    "scores1 = cross_val_score(model1, images, labels, cv= 5)\n",
    "print('Individual cross_validation accuracies:', scores1)\n",
    "print('Mean Cross Validation Accuracy', np.mean(scores1))\n",
    "model1_score = model1.score(X_test, Y_test)"
   ]
  },
  {
   "cell_type": "code",
   "execution_count": 71,
   "metadata": {},
   "outputs": [
    {
     "name": "stdout",
     "output_type": "stream",
     "text": [
      "Individual cross_validation accuracies: [0.93055556 0.88888889 0.94150418 0.93036212 0.87743733]\n",
      "Mean Cross Validation Accuracy 0.9137496131228723\n"
     ]
    }
   ],
   "source": [
    "model2 = MLPClassifier(hidden_layer_sizes=(400,150,50), max_iter= 2000,activation = 'relu',random_state=1)\n",
    "model2.fit(X_train, Y_train)\n",
    "\n",
    "scores2 = cross_val_score(model2, images, labels, cv= 5)\n",
    "print('Individual cross_validation accuracies:', scores2)\n",
    "print('Mean Cross Validation Accuracy', np.mean(scores2))\n",
    "model2_score = model2.score(X_test, Y_test)"
   ]
  },
  {
   "cell_type": "code",
   "execution_count": 72,
   "metadata": {},
   "outputs": [
    {
     "name": "stdout",
     "output_type": "stream",
     "text": [
      "Individual cross_validation accuracies: [0.86111111 0.81666667 0.86908078 0.88857939 0.81058496]\n",
      "Mean Cross Validation Accuracy 0.8492045806251933\n"
     ]
    }
   ],
   "source": [
    "model3 = MLPClassifier(hidden_layer_sizes=(400,150,50), max_iter=2000,activation = 'logistic',random_state=2)\n",
    "model3.fit(X_train, Y_train)\n",
    "\n",
    "scores3 = cross_val_score(model3, images, labels, cv= 5)\n",
    "print('Individual cross_validation accuracies:', scores3)\n",
    "print('Mean Cross Validation Accuracy', np.mean(scores3))\n",
    "model3_score = model3.score(X_test, Y_test)"
   ]
  },
  {
   "cell_type": "code",
   "execution_count": 73,
   "metadata": {},
   "outputs": [
    {
     "name": "stdout",
     "output_type": "stream",
     "text": [
      "Individual cross_validation accuracies: [0.91666667 0.87222222 0.91922006 0.92479109 0.8913649 ]\n",
      "Mean Cross Validation Accuracy 0.9048529866914267\n"
     ]
    }
   ],
   "source": [
    "model4 = MLPClassifier(hidden_layer_sizes=(64,32,16), max_iter=2000,activation = 'relu',random_state=1)\n",
    "model4.fit(X_train, Y_train)\n",
    "\n",
    "scores4 = cross_val_score(model4, images, labels, cv= 5)\n",
    "print('Individual cross_validation accuracies:', scores4)\n",
    "print('Mean Cross Validation Accuracy', np.mean(scores4))\n",
    "model4_score = model4.score(X_test, Y_test)"
   ]
  },
  {
   "cell_type": "code",
   "execution_count": 74,
   "metadata": {},
   "outputs": [
    {
     "name": "stdout",
     "output_type": "stream",
     "text": [
      "Individual cross_validation accuracies: [0.925      0.83888889 0.91364903 0.91922006 0.87743733]\n",
      "Mean Cross Validation Accuracy 0.894839059114825\n"
     ]
    }
   ],
   "source": [
    "model5 = MLPClassifier(hidden_layer_sizes=(32,16), max_iter=2000,activation = 'relu',random_state=1)\n",
    "model5.fit(X_train, Y_train)\n",
    "\n",
    "scores5 = cross_val_score(model5, images, labels, cv= 5)\n",
    "print('Individual cross_validation accuracies:', scores5)\n",
    "print('Mean Cross Validation Accuracy', np.mean(scores5))\n",
    "model5_score = model5.score(X_test, Y_test)"
   ]
  },
  {
   "cell_type": "code",
   "execution_count": 75,
   "metadata": {},
   "outputs": [
    {
     "name": "stdout",
     "output_type": "stream",
     "text": [
      "Individual cross_validation accuracies: [0.9        0.85833333 0.93314763 0.93314763 0.85236769]\n",
      "Mean Cross Validation Accuracy 0.8953992571959146\n"
     ]
    }
   ],
   "source": [
    "model6 = MLPClassifier(hidden_layer_sizes=(120,64,16), max_iter=2000,activation = 'relu',random_state=1)\n",
    "model6.fit(X_train, Y_train)\n",
    "\n",
    "scores6 = cross_val_score(model6, images, labels, cv= 5)\n",
    "print('Individual cross_validation accuracies:', scores6)\n",
    "print('Mean Cross Validation Accuracy', np.mean(scores6))\n",
    "model6_score = model5.score(X_test, Y_test)"
   ]
  },
  {
   "cell_type": "code",
   "execution_count": 76,
   "metadata": {},
   "outputs": [
    {
     "name": "stdout",
     "output_type": "stream",
     "text": [
      "Individual cross_validation accuracies: [0.91944444 0.90277778 0.94428969 0.93036212 0.88857939]\n",
      "Mean Cross Validation Accuracy 0.9170906839987619\n"
     ]
    }
   ],
   "source": [
    "model7 = MLPClassifier(hidden_layer_sizes=(320,120,32), max_iter=2000,activation = 'relu',random_state=1)\n",
    "model7.fit(X_train, Y_train)\n",
    "\n",
    "scores7 = cross_val_score(model7, images, labels, cv= 5)\n",
    "print('Individual cross_validation accuracies:', scores7)\n",
    "print('Mean Cross Validation Accuracy', np.mean(scores7))\n",
    "model7_score = model7.score(X_test, Y_test)\n"
   ]
  },
  {
   "cell_type": "markdown",
   "metadata": {},
   "source": [
    "#### Create a dataframe that stores the model name and cross-validation scores (makes it easier to plot)"
   ]
  },
  {
   "cell_type": "code",
   "execution_count": 77,
   "metadata": {},
   "outputs": [],
   "source": [
    "model_scores = [model1_score, model2_score, model3_score, model4_score, model5_score, model6_score, model7_score]\n",
    "cross_validation_scores = [scores1, scores2, scores3, scores4, scores5, scores6, scores7]\n"
   ]
  },
  {
   "cell_type": "code",
   "execution_count": 78,
   "metadata": {},
   "outputs": [],
   "source": [
    "df = pd.DataFrame(columns = ['All Models', 'Scores'])\n",
    "\n",
    "for i in range(len(cross_validation_scores)):\n",
    "    model_name = \"Model\"+str(i+1)\n",
    "    for y in cross_validation_scores[i]:\n",
    "        new_row = {\"All Models\": model_name, \"Scores\": y}\n",
    "        df = df.append(new_row, ignore_index=True)\n",
    "    "
   ]
  },
  {
   "cell_type": "markdown",
   "metadata": {},
   "source": [
    "#### Plot Violion plot"
   ]
  },
  {
   "cell_type": "code",
   "execution_count": 90,
   "metadata": {},
   "outputs": [
    {
     "data": {
      "image/png": "[encoded data removed]",
      "text/plain": [
       "<Figure size 432x288 with 1 Axes>"
      ]
     },
     "metadata": {},
     "output_type": "display_data"
    }
   ],
   "source": [
    "\n",
    "\n",
    "sns.violinplot(x='All Models', y = 'Scores', data = df, inner=\"quartile\")\n",
    "for i in range(7):\n",
    "    plt.plot(model_scores, marker = 'x', linestyle = 'None', color = \"red\")\n",
    "sns.set(style=\"whitegrid\")\n",
    "plt.show()\n"
   ]
  },
  {
   "cell_type": "code",
   "execution_count": null,
   "metadata": {},
   "outputs": [],
   "source": []
  },
  {
   "cell_type": "code",
   "execution_count": null,
   "metadata": {},
   "outputs": [],
   "source": []
  }
 ],
 "metadata": {
  "kernelspec": {
   "display_name": "Python 3",
   "language": "python",
   "name": "python3"
  },
  "language_info": {
   "codemirror_mode": {
    "name": "ipython",
    "version": 3
   },
   "file_extension": ".py",
   "mimetype": "text/x-python",
   "name": "python",
   "nbconvert_exporter": "python",
   "pygments_lexer": "ipython3",
   "version": "3.8.5"
  }
 },
 "nbformat": 4,
 "nbformat_minor": 4
}
