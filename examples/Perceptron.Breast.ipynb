{
 "cells": [
  {
   "cell_type": "markdown",
   "metadata": {},
   "source": [
    "# This notebook shows how to do SVM modeling on breast cancer dataset"
   ]
  },
  {
   "cell_type": "code",
   "execution_count": 13,
   "metadata": {},
   "outputs": [],
   "source": [
    "import numpy as np\n",
    "import pandas as pd\n",
    "from sklearn import datasets\n",
    "import matplotlib.pyplot as plt\n",
    "import seaborn as sns\n",
    "from sklearn.model_selection import train_test_split\n",
    "from sklearn.preprocessing import StandardScaler\n",
    "from sklearn.linear_model import Perceptron\n",
    "from sklearn.metrics import plot_confusion_matrix"
   ]
  },
  {
   "cell_type": "code",
   "execution_count": 14,
   "metadata": {},
   "outputs": [],
   "source": [
    "np.random.seed(42)"
   ]
  },
  {
   "cell_type": "markdown",
   "metadata": {},
   "source": [
    "### Load Breast cancer dataset"
   ]
  },
  {
   "cell_type": "code",
   "execution_count": 15,
   "metadata": {},
   "outputs": [
    {
     "data": {
      "text/plain": [
       "((569, 30), (569,), array(['malignant', 'benign'], dtype='<U9'))"
      ]
     },
     "execution_count": 15,
     "metadata": {},
     "output_type": "execute_result"
    }
   ],
   "source": [
    "breast = datasets.load_breast_cancer()\n",
    "X = breast.data\n",
    "Y = breast.target\n",
    "class_names = breast.target_names\n",
    "X.shape, Y.shape, class_names"
   ]
  },
  {
   "cell_type": "code",
   "execution_count": 5,
   "metadata": {},
   "outputs": [],
   "source": [
    "scaler = StandardScaler()\n",
    "X_rescaled = scaler.fit_transform(X)"
   ]
  },
  {
   "cell_type": "code",
   "execution_count": 6,
   "metadata": {},
   "outputs": [
    {
     "data": {
      "text/plain": [
       "((455, 30), (455,), (114, 30), (114,))"
      ]
     },
     "execution_count": 6,
     "metadata": {},
     "output_type": "execute_result"
    }
   ],
   "source": [
    "X_train, X_test, Y_train, Y_test = train_test_split(X_rescaled, Y, test_size=0.2, random_state=0)\n",
    "X_train.shape, Y_train.shape, X_test.shape, Y_test.shape"
   ]
  },
  {
   "cell_type": "markdown",
   "metadata": {},
   "source": [
    "### Build a perceptron model using sklearn"
   ]
  },
  {
   "cell_type": "code",
   "execution_count": 7,
   "metadata": {},
   "outputs": [
    {
     "name": "stdout",
     "output_type": "stream",
     "text": [
      "Accuracy of perceptron on training set: 0.98\n",
      "Accuracy of perceptron on test set: 0.93\n"
     ]
    }
   ],
   "source": [
    "model = Perceptron(tol=1e-3, random_state=0)\n",
    "model.fit(X_train, Y_train)\n",
    "\n",
    "print('Accuracy of perceptron on training set: {:.2f}'.format(model.score(X_train, Y_train)))\n",
    "\n",
    "print('Accuracy of perceptron on test set: {:.2f}'.format(model.score(X_test, Y_test)))"
   ]
  },
  {
   "cell_type": "code",
   "execution_count": 1,
   "metadata": {},
   "outputs": [
    {
     "ename": "NameError",
     "evalue": "name 'np' is not defined",
     "output_type": "error",
     "traceback": [
      "\u001b[0;31m---------------------------------------------------------------------------\u001b[0m",
      "\u001b[0;31mNameError\u001b[0m                                 Traceback (most recent call last)",
      "\u001b[0;32m<ipython-input-1-fe3ae4ef003b>\u001b[0m in \u001b[0;36m<module>\u001b[0;34m\u001b[0m\n\u001b[1;32m      2\u001b[0m \u001b[0;31m# https://scikit-learn.org/stable/auto_examples/model_selection/plot_confusion_matrix.html\u001b[0m\u001b[0;34m\u001b[0m\u001b[0;34m\u001b[0m\u001b[0;34m\u001b[0m\u001b[0m\n\u001b[1;32m      3\u001b[0m \u001b[0;34m\u001b[0m\u001b[0m\n\u001b[0;32m----> 4\u001b[0;31m \u001b[0mnp\u001b[0m\u001b[0;34m.\u001b[0m\u001b[0mset_printoptions\u001b[0m\u001b[0;34m(\u001b[0m\u001b[0mprecision\u001b[0m\u001b[0;34m=\u001b[0m\u001b[0;36m2\u001b[0m\u001b[0;34m)\u001b[0m\u001b[0;34m\u001b[0m\u001b[0;34m\u001b[0m\u001b[0m\n\u001b[0m\u001b[1;32m      5\u001b[0m titles_options = [(\"Confusion matrix, without normalization\", None),\n\u001b[1;32m      6\u001b[0m                   (\"Normalized confusion matrix\", 'true')]\n",
      "\u001b[0;31mNameError\u001b[0m: name 'np' is not defined"
     ]
    }
   ],
   "source": [
    "# this code is adopted from this example:\n",
    "# https://scikit-learn.org/stable/auto_examples/model_selection/plot_confusion_matrix.html\n",
    "\n",
    "np.set_printoptions(precision=2)\n",
    "titles_options = [(\"Confusion matrix, without normalization\", None),\n",
    "                  (\"Normalized confusion matrix\", 'true')]\n",
    "for title, normalize in titles_options:\n",
    "    disp = plot_confusion_matrix(model, X_test, Y_test,\n",
    "                                 display_labels=class_names,\n",
    "                                 cmap=plt.cm.Blues,\n",
    "                                 normalize=normalize)\n",
    "    disp.ax_.set_title(title)\n",
    "\n",
    "    print(title)\n",
    "    print(disp.confusion_matrix)\n",
    "    \n",
    "fig.tight_layout()\n",
    "plt.show()"
   ]
  },
  {
   "cell_type": "markdown",
   "metadata": {},
   "source": [
    "### Implement perceptron model from scratch"
   ]
  },
  {
   "cell_type": "code",
   "execution_count": 9,
   "metadata": {},
   "outputs": [],
   "source": [
    "def activation(val):\n",
    "    return 1 if val >= 0 else 0\n",
    "\n",
    "def predict_with_perceptron(inputs, weights):\n",
    "        weighted_sum = np.dot(inputs, weights[1:]) + weights[0]\n",
    "        return activation(weighted_sum)\n",
    "    \n",
    "def train_perceptron(X,Y,eta,max_epochs):\n",
    "    # initialize the weights and bias to zeros\n",
    "    w = np.zeros(len(X[0])+1)\n",
    "    \n",
    "    # setup error tracking variables\n",
    "    SSE_vect = np.zeros(max_epochs)\n",
    "    \n",
    "    for m in range(max_epochs):\n",
    "        SSE = 0.0\n",
    "        \n",
    "        # for each observation (stochastic gradient descent)\n",
    "        for i in range(Y.shape[0]):\n",
    "            y_hat = predict_with_perceptron(X[i], w)\n",
    "            error = Y[i] - y_hat\n",
    "            SSE += error**2\n",
    "            for j in range(len(w)):\n",
    "                if j == 0:\n",
    "                    w[j] = w[j] + eta * (Y[i] - y_hat)\n",
    "                else:\n",
    "                    w[j] = w[j] + eta * (Y[i] - y_hat) * X[i][j-1]\n",
    "        \n",
    "        SSE_vect[m] = SSE\n",
    "    \n",
    "    #print(SSE_vect)\n",
    "    #print(w)\n",
    "    return w\n",
    "\n",
    "weights = train_perceptron(X_train,Y_train,.1,100)"
   ]
  },
  {
   "cell_type": "code",
   "execution_count": 10,
   "metadata": {},
   "outputs": [
    {
     "name": "stdout",
     "output_type": "stream",
     "text": [
      "Accuracy of perceptron on test set: 0.947\n"
     ]
    }
   ],
   "source": [
    "def score(inputs, w):\n",
    "    correct = 0\n",
    "    incorrect = 0\n",
    "    for i in range(len(X_test)):\n",
    "        y_hat = predict_with_perceptron(X_test[i], w)\n",
    "        if y_hat == Y_test[i]:\n",
    "            correct += 1\n",
    "        else:\n",
    "            incorrect += 1\n",
    "    return correct/(correct + incorrect)\n",
    "\n",
    "print('Accuracy of perceptron on test set: {:.3f}'.format(score(X_test, weights)))"
   ]
  },
  {
   "cell_type": "code",
   "execution_count": 11,
   "metadata": {},
   "outputs": [
    {
     "name": "stdout",
     "output_type": "stream",
     "text": [
      "Accuracy of perceptron on test set using random weights: 0.588\n"
     ]
    }
   ],
   "source": [
    "# did we actually train the model? do randomly initialized weights actually give us similar performance?\n",
    "weights = np.zeros(len(X[0])+1)\n",
    "print('Accuracy of perceptron on test set using random weights: {:.3f}'.format(score(X_test, weights)))\n",
    "# this model performs similar to a random gues; conclusion: fitting the perceptron model resulted in a model with improved performance"
   ]
  },
  {
   "cell_type": "code",
   "execution_count": null,
   "metadata": {},
   "outputs": [],
   "source": []
  }
 ],
 "metadata": {
  "kernelspec": {
   "display_name": "Python 3",
   "language": "python",
   "name": "python3"
  },
  "language_info": {
   "codemirror_mode": {
    "name": "ipython",
    "version": 3
   },
   "file_extension": ".py",
   "mimetype": "text/x-python",
   "name": "python",
   "nbconvert_exporter": "python",
   "pygments_lexer": "ipython3",
   "version": "3.8.5"
  }
 },
 "nbformat": 4,
 "nbformat_minor": 4
}
